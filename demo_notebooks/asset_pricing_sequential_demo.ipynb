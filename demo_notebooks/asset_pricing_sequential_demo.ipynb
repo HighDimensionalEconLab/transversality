{
 "cells": [
  {
   "cell_type": "markdown",
   "id": "8274b7cf",
   "metadata": {},
   "source": [
    "**Note**: This notebook should take around **a minute** to run.\n",
    "\n",
    "For a more comprehensive and detailed treatment of this problem, please refer to the [GitHub repository](https://github.com/HighDimensionalEconLab/deep_learning_transversality)."
   ]
  },
  {
   "cell_type": "markdown",
   "id": "b6b8a8ef",
   "metadata": {},
   "source": [
    "## The Economic Problem\n",
    "\n",
    "Consider an asset that pays dividends $\\{y_t\\}_{t=0}^\\infty$, and the sequence of dividends follows a law of motion described as:\n",
    "\n",
    "$\\begin{align}\n",
    "y(t+1) = c + (1+g) y(t)\n",
    "\\end{align}$\n",
    "\n",
    "This system can be written in a linear space setup as follows:\n",
    "\n",
    "$\\begin{align}\n",
    "x(t+1) = Ax(t)\\\\\n",
    "y(t) = Gx(t),\n",
    "\\end{align}$\n",
    "\n",
    "where \n",
    "\n",
    "$x(t) \\equiv \\begin{bmatrix}\n",
    "1\\\\\n",
    "y(t)\n",
    "\\end{bmatrix}$\n",
    "\n",
    "$\n",
    "A \\equiv \\begin{bmatrix}\n",
    "1 & 0\\\\\n",
    "c & 1+g\n",
    "\\end{bmatrix}\n",
    "$\n",
    "\n",
    "$G = \\begin{bmatrix}\n",
    "1 & 0\n",
    "\\end{bmatrix}$\n",
    "\n",
    "The price based on the fundamentals can be written as:\n",
    "\n",
    "$\n",
    "\\begin{align}\n",
    "p_f(t) = \\sum_{j=0}^\\infty \\beta^j y(t+j) = G (\\mathbf{I}-\\beta A)^{-1} x(t)\n",
    "\\end{align}\n",
    "$\n",
    "\n",
    "The equation for the price can be written in a recursive way:\n",
    "\n",
    "$\\begin{align}\n",
    "&p(t) = Gx(t) + \\beta p(t+1)\\\\\n",
    "&x(t+1) = A x(t)\n",
    "\\end{align}$\n",
    "\n",
    "This system described above has infinitely many solutions; therefore, we need a condition (i.e., no-bubble condition) to rule out the solutions with bubbles:\n",
    "\n",
    "$\\begin{align}\n",
    "\\lim_{T\\rightarrow \\infty } \\beta^T p(T) = 0\n",
    "\\end{align}$\n",
    "\n",
    "#### Note on the No-Bubble Condition:\n",
    "\n",
    "One of the main contributions of this paper is that one can ignore the no-bubble condition and completely rely on the implicit bias in deep learning to obtain the solution that is based on the fundamentals.\n",
    "\n",
    "In this example, we focus on the case of:\n",
    "\n",
    "1. $c = 0.01$, $g = -0.1$, $\\beta = 0.9$, and $y_0 = 0.08$.\n"
   ]
  },
  {
   "cell_type": "markdown",
   "id": "301308ac",
   "metadata": {},
   "source": [
    "#### Importing Packages"
   ]
  },
  {
   "cell_type": "code",
   "execution_count": 1,
   "id": "188e301e",
   "metadata": {},
   "outputs": [],
   "source": [
    "import numpy as np\n",
    "import torch\n",
    "import torch.nn as nn\n",
    "from torch.utils.data import DataLoader,TensorDataset\n",
    "import matplotlib.pyplot as plt\n",
    "from matplotlib import cm"
   ]
  },
  {
   "cell_type": "code",
   "execution_count": 2,
   "id": "60987f8b",
   "metadata": {},
   "outputs": [
    {
     "data": {
      "text/plain": [
       "<torch._C.Generator at 0x20e066270b0>"
      ]
     },
     "execution_count": 2,
     "metadata": {},
     "output_type": "execute_result"
    }
   ],
   "source": [
    "torch.manual_seed(123) # fixing the seed"
   ]
  },
  {
   "cell_type": "markdown",
   "id": "e8a8f29a",
   "metadata": {},
   "source": [
    "#### Setting Up the Economic Parameters \n"
   ]
  },
  {
   "cell_type": "code",
   "execution_count": 3,
   "id": "7a6ebb2a",
   "metadata": {},
   "outputs": [],
   "source": [
    "c = 0.01\n",
    "g = -0.1\n",
    "beta = 0.9\n",
    "y_0 = 0.08"
   ]
  },
  {
   "cell_type": "markdown",
   "id": "fdd50bb4",
   "metadata": {},
   "source": [
    "### Setting Up the Grid ($\\mathcal{X}_{\\text{train}}$) and the DataLoader\n"
   ]
  },
  {
   "cell_type": "code",
   "execution_count": 4,
   "id": "d84785ae",
   "metadata": {},
   "outputs": [],
   "source": [
    "train_t_max = 29\n",
    "time_grid = torch.arange(0.0, train_t_max , 1.0)\n",
    "time_grid = time_grid.unsqueeze(dim =1)"
   ]
  },
  {
   "cell_type": "markdown",
   "id": "23707376",
   "metadata": {},
   "source": [
    "#### Creating the Dividends Stream in the State-Space"
   ]
  },
  {
   "cell_type": "code",
   "execution_count": 5,
   "id": "2f9482c3",
   "metadata": {},
   "outputs": [],
   "source": [
    "A = torch.tensor([[1, 0], [c, 1 + g]]) \n",
    "G = torch.tensor([0.0, 1.0])  #\n",
    "x_0 = torch.tensor([1.0, y_0])"
   ]
  },
  {
   "cell_type": "code",
   "execution_count": 6,
   "id": "92823ed7",
   "metadata": {},
   "outputs": [],
   "source": [
    "y = []\n",
    "x = []\n",
    "x_t = x_0\n",
    "for _ in range(train_t_max):\n",
    "    x.append(x_t)\n",
    "    y.append(G @ x_t)\n",
    "    x_t = A @ x_t\n",
    "    \n",
    "y = torch.tensor(y).view(-1,1)#turning a list into a tensor"
   ]
  },
  {
   "cell_type": "code",
   "execution_count": 7,
   "id": "ba2cc259",
   "metadata": {},
   "outputs": [],
   "source": [
    "train_data = TensorDataset(time_grid,y)\n",
    "data_loader = DataLoader(train_data, batch_size=len(time_grid), shuffle= False)"
   ]
  },
  {
   "cell_type": "markdown",
   "id": "bcaa59ee",
   "metadata": {},
   "source": [
    "#### Setting up the Neural Network\n",
    "This is an approximation for price $\\hat{p}: \\mathbb{R}_+ \\rightarrow \\mathbb{R}_+$.\n",
    "\n",
    "$\\hat{p}(\\cdot)$ takes time as an input. The positivity of prices is going to be implemented by using a `Softplus` output layer."
   ]
  },
  {
   "cell_type": "code",
   "execution_count": 8,
   "id": "c64dd755",
   "metadata": {},
   "outputs": [],
   "source": [
    "class P_hat_NN(nn.Module):\n",
    "    def __init__(self,\n",
    "                 dim_hidden = 128,):\n",
    "        super().__init__()\n",
    "        \n",
    "        self.dim_hidden= dim_hidden\n",
    "        \n",
    "        self.p_hat = nn.Sequential(\n",
    "            nn.Linear(1, dim_hidden, bias=True),\n",
    "            nn.Tanh(),\n",
    "            nn.Linear(dim_hidden, dim_hidden, bias=True),\n",
    "            nn.Tanh(),\n",
    "            nn.Linear(dim_hidden, dim_hidden, bias=True),\n",
    "            nn.Tanh(),\n",
    "            nn.Linear(dim_hidden, dim_hidden, bias=True),\n",
    "            nn.Tanh(),\n",
    "            nn.Linear(dim_hidden, 1),\n",
    "            nn.Softplus(beta=1.0) #To make sure the price stays positive\n",
    "        )\n",
    "\n",
    "    def forward(self, x):\n",
    "        return self.p_hat(x)"
   ]
  },
  {
   "cell_type": "markdown",
   "id": "0b575f54",
   "metadata": {},
   "source": [
    "#### Initializing the Neural Network and Defining the Optimizer"
   ]
  },
  {
   "cell_type": "code",
   "execution_count": 9,
   "id": "c0496ae3",
   "metadata": {},
   "outputs": [],
   "source": [
    "p_hat= P_hat_NN()\n",
    "learning_rate = 1e-3\n",
    "optimizer = torch.optim.Adam(p_hat.parameters(), lr=learning_rate) #Adam Optimizer \n",
    "scheduler = torch.optim.lr_scheduler.StepLR(optimizer, step_size=200, gamma=0.9) #dampening the learning rate"
   ]
  },
  {
   "cell_type": "code",
   "execution_count": 10,
   "id": "1e78eafa",
   "metadata": {},
   "outputs": [],
   "source": [
    "num_epochs = 2001 # step of optimization\n",
    "print_epoch_frequency = 200 # how often printing the results"
   ]
  },
  {
   "cell_type": "markdown",
   "id": "79c154f3",
   "metadata": {},
   "source": [
    "### Implementing the Economics\n",
    "Here, we implement the economic conditions in the form of residuals to be minimized, specifically:\n",
    "\n",
    "The price residuals: the difference between the left-hand and right-hand sides of the recursive equation for price (i.e., eq. 5).\n",
    "\n",
    "\n"
   ]
  },
  {
   "cell_type": "markdown",
   "id": "ee4e3d60",
   "metadata": {},
   "source": [
    "#### Defining the Residuals Function to be Used in the Optimization\n",
    "This funtion defines the residuals for the recursive formulation of prices "
   ]
  },
  {
   "cell_type": "code",
   "execution_count": 11,
   "id": "8bcbdbf2",
   "metadata": {},
   "outputs": [],
   "source": [
    "def residuals(batch):\n",
    "    time, y_t = batch\n",
    "    t_p1 = time+1 # t+1\n",
    "    p_t = p_hat(time) # p(t), p_hat is the neural network\n",
    "    p_tp1 = p_hat(t_p1) # p(t+1), p_hat is the neural network\n",
    "    price_residulas =  y_t + beta * p_tp1 - p_t  # Gx(t)+ beta p(t+1) - p(t) = y(t)+ beta p(t+1) - p(t) \n",
    "    return price_residulas"
   ]
  },
  {
   "cell_type": "markdown",
   "id": "49e4923f",
   "metadata": {},
   "source": [
    "### Training Loop (Optimization Process)\n",
    "Here, we minimize the mean squared of price residuals over the grid points:\n",
    "\n",
    "$\\min_{\\theta} \\frac{1}{|\\mathcal{X}_{\\text{train}}|} \\sum_{t\\in \\mathcal{X}_{\\text{train}}} [y(t)+\\beta \\hat{p}(t+1;\\theta)-\\hat{p}(t;\\theta)]^2$\n",
    "\n",
    "where $\\theta$ represents the coefficients of the neural network, and the optimization is done with gradient-based optimizers such as `Gradient Descent (GD)` and `Adam`.  \n",
    "\n"
   ]
  },
  {
   "cell_type": "code",
   "execution_count": 12,
   "id": "09a63b40",
   "metadata": {},
   "outputs": [
    {
     "name": "stdout",
     "output_type": "stream",
     "text": [
      "epoch = 0, loss = 4.28e-04\n",
      "epoch = 200, loss = 1.33e-08\n",
      "epoch = 400, loss = 1.22e-09\n",
      "epoch = 600, loss = 6.82e-10\n",
      "epoch = 800, loss = 5.86e-10\n",
      "epoch = 1000, loss = 5.04e-10\n",
      "epoch = 1200, loss = 4.33e-10\n",
      "epoch = 1400, loss = 3.72e-10\n",
      "epoch = 1600, loss = 3.21e-10\n",
      "epoch = 1800, loss = 2.76e-10\n",
      "epoch = 2000, loss = 2.39e-10\n"
     ]
    }
   ],
   "source": [
    "for epoch in range(num_epochs):\n",
    "    for batch in data_loader:\n",
    "        \n",
    "        optimizer.zero_grad() # Resetting the gradients (with respect to NN coefficients)\n",
    "        \n",
    "        price_res = residuals(batch) # Constructing the price residuals\n",
    "        \n",
    "        loss = price_res.pow(2).mean() # Calculating the mean squared (over the grid points) of the price residulas residuals\n",
    "        \n",
    "        loss.backward() # Calculating the gradients (with respect to NN coefficients)\n",
    "        optimizer.step() # Using the gradients to minimize the loss function\n",
    "        \n",
    "    scheduler.step() # Dampening the learning rate\n",
    "    \n",
    "    if epoch % print_epoch_frequency == 0:\n",
    "        print(f\"epoch = {epoch}, loss = {loss.detach().numpy():.2e}\")\n",
    "\n",
    "    \n"
   ]
  },
  {
   "cell_type": "markdown",
   "id": "728d4bac",
   "metadata": {},
   "source": [
    "### Plotting the Results"
   ]
  },
  {
   "cell_type": "markdown",
   "id": "3c69ce6f",
   "metadata": {},
   "source": [
    "#### Calculating the Approximate Capital and Consumption Path"
   ]
  },
  {
   "cell_type": "code",
   "execution_count": 13,
   "id": "fe1dae92",
   "metadata": {},
   "outputs": [],
   "source": [
    "# creating the test data\n",
    "test_T = 50\n",
    "time_grid_test = torch.arange(0.0, test_T , 1.0)\n",
    "time_grid_test = time_grid_test.unsqueeze(dim =1)"
   ]
  },
  {
   "cell_type": "code",
   "execution_count": 14,
   "id": "c76ba42d",
   "metadata": {},
   "outputs": [],
   "source": [
    "p_hat_path = p_hat(time_grid_test).detach() # \\hat{p}(t)"
   ]
  },
  {
   "cell_type": "markdown",
   "id": "b69663be",
   "metadata": {},
   "source": [
    "#### Closed Form Solution : Calculating the Price Path Based on the Fundamentals, $p_f(t)$\n",
    "$p_f(t)$ is the price based on the fundamentalson the test data"
   ]
  },
  {
   "cell_type": "code",
   "execution_count": 15,
   "id": "93d7416f",
   "metadata": {},
   "outputs": [],
   "source": [
    "H = G @ torch.inverse(torch.eye(2)- beta * A)"
   ]
  },
  {
   "cell_type": "code",
   "execution_count": 16,
   "id": "f4865495",
   "metadata": {},
   "outputs": [],
   "source": [
    "x_test = []\n",
    "x_t_test = x_0\n",
    "for _ in range(test_T):\n",
    "    x_test.append(x_t_test)\n",
    "    x_t_test = A @ x_t_test\n",
    "\n",
    "\n",
    "x_test_path = torch.stack(x_test).t()\n",
    "p_f_path = (H @ x_test_path).view(-1,1)"
   ]
  },
  {
   "cell_type": "markdown",
   "id": "60deeaf9",
   "metadata": {},
   "source": [
    "#### Calculating relative errors\n",
    "Defined as \n",
    "\n",
    "$\\begin{align}\n",
    "\\varepsilon_p(t) = \\frac{\\hat{p}(t)-p_f(t)}{p_f(t)}\n",
    "\\end{align}$"
   ]
  },
  {
   "cell_type": "code",
   "execution_count": 17,
   "id": "a3f18e8e",
   "metadata": {},
   "outputs": [],
   "source": [
    "rel_error_path = (p_hat_path-p_f_path)/p_f_path"
   ]
  },
  {
   "cell_type": "markdown",
   "id": "2cc7e600",
   "metadata": {},
   "source": [
    "#### Plot Settings"
   ]
  },
  {
   "cell_type": "code",
   "execution_count": 18,
   "id": "7c524a9e",
   "metadata": {},
   "outputs": [],
   "source": [
    "fontsize= 14\n",
    "ticksize = 14\n",
    "figsize = (14, 4.5)\n",
    "params = {'font.family':'serif',\n",
    "    \"figure.figsize\":figsize,\n",
    "    'figure.dpi': 80,\n",
    "    'figure.edgecolor': 'k',\n",
    "    'font.size': fontsize,\n",
    "    'axes.labelsize': fontsize,\n",
    "    'axes.titlesize': fontsize,\n",
    "    'xtick.labelsize': ticksize,\n",
    "    'ytick.labelsize': ticksize\n",
    "}\n",
    "plt.rcParams.update(params)"
   ]
  },
  {
   "cell_type": "markdown",
   "id": "ccb4e459",
   "metadata": {},
   "source": [
    "#### Plots"
   ]
  },
  {
   "cell_type": "code",
   "execution_count": 19,
   "id": "edd97a4b",
   "metadata": {},
   "outputs": [
    {
     "data": {
      "text/plain": [
       "<matplotlib.legend.Legend at 0x20e0cf020a0>"
      ]
     },
     "execution_count": 19,
     "metadata": {},
     "output_type": "execute_result"
    },
    {
     "data": {
      "image/png": "[encoded data removed]",
      "text/plain": [
       "<Figure size 1120x360 with 2 Axes>"
      ]
     },
     "metadata": {},
     "output_type": "display_data"
    }
   ],
   "source": [
    "plt.subplot(1, 2 , 1)\n",
    "\n",
    "plt.plot(time_grid_test,p_hat_path, color='k',  label = r\"$\\hat{p}(t)$\")\n",
    "plt.plot(time_grid_test,p_f_path, color='k', linestyle = \"--\" ,label = r\"$\\hat{p}(t)$\")\n",
    "plt.xlabel(r\"Time(t)\")\n",
    "plt.axvline(x= train_t_max , color='k', linestyle=':', label = \"Iterpolation vs Extrapolation\")\n",
    "plt.title(r\"Approximate Price Path\")\n",
    "plt.ylim([p_hat_path[0]-0.05,p_hat_path[-1]*(1+0.05) ])\n",
    "plt.legend(loc='lower right')\n",
    "\n",
    "plt.subplot(1, 2, 2)\n",
    "\n",
    "plt.plot(time_grid_test,rel_error_path, color='k',  label = r\"$\\varepsilon_p(t)$\")\n",
    "plt.xlabel(r\"Time(t)\")\n",
    "plt.axvline(x= train_t_max , color='k', linestyle=':', label = \"Interpolation vs Extrapolation\")\n",
    "plt.title(r\"Relative Errors\")\n",
    "plt.legend(loc='best')"
   ]
  },
  {
   "cell_type": "code",
   "execution_count": null,
   "id": "9872d1fc",
   "metadata": {},
   "outputs": [],
   "source": []
  }
 ],
 "metadata": {
  "kernelspec": {
   "display_name": "Python 3 (ipykernel)",
   "language": "python",
   "name": "python3"
  },
  "language_info": {
   "codemirror_mode": {
    "name": "ipython",
    "version": 3
   },
   "file_extension": ".py",
   "mimetype": "text/x-python",
   "name": "python",
   "nbconvert_exporter": "python",
   "pygments_lexer": "ipython3",
   "version": "3.9.13"
  }
 },
 "nbformat": 4,
 "nbformat_minor": 5
}

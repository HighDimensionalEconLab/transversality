{
 "cells": [
  {
   "cell_type": "markdown",
   "id": "dae963a0",
   "metadata": {},
   "source": [
    "**Note**: This notebook should take around **a minute** to run.\n",
    "\n",
    "For a more comprehensive and detailed treatment of this problem, please refer to the [GitHub repository](https://github.com/HighDimensionalEconLab/transversality)."
   ]
  },
  {
   "cell_type": "markdown",
   "id": "ad24e909",
   "metadata": {},
   "source": [
    "# The Economic Problem:\n",
    "\n",
    "Consider the following problem:\n",
    "\n",
    "$\\begin{align}\n",
    "\\quad & \\max_{\\{c_t\\}_{t=0}^\\infty } \\sum \\beta^t u(c_t)\\\\\n",
    "\\quad & \\text{s.t.}\\quad  k_{t+1} = f(k_t) + (1-\\delta) k_t -c_t\\\\\n",
    "\\quad & k_{t+1} \\geq 0\\\\\n",
    "\\quad & k_0 \\quad \\text{is given},\n",
    "\\end{align}$\n",
    "\n",
    "where $u(\\cdot)$ is the utility function, $f(\\cdot)$ is the prduction function, $\\beta$ is the discount factor, and $k_0$ is the initial condition for capital.\n",
    "\n",
    "#### First Order Condition\n",
    "\n",
    "The Euler equation can be written as:\n",
    "\n",
    "$\\begin{align}\n",
    "\\quad & u'(c_t) = \\beta u'(c_{t+1})\\big[f'(k_{t+1})+(1-\\delta)\\big]\n",
    "\\end{align}$\n",
    "\n",
    "To pin down the optimal solution a transversality condition is required, described as:\n",
    "\n",
    "$\\begin{align}\n",
    "\\quad & \\lim_{T\\rightarrow \\infty} u'(c_T)k_{T+1} = 0\n",
    "\\end{align}$\n",
    "\n",
    "#### The System of Equations Describing the Optimal Solution:\n",
    "\n",
    "The optimal solution can be written as a **root** of the following system of equations:\n",
    "\n",
    "$\\begin{align}\n",
    "\\quad & \\beta u'\\big(c(t+1)\\big)\\bigg[f'\\big(k(t+1)\\big)+(1-\\delta)\\bigg] - u'\\big(c(t)\\big) = 0 \\\\\n",
    "\\quad & f\\big(k(t)\\big) + (1-\\delta) k(t) -c(t) - k(t+1)  = 0\\\\\n",
    "\\quad & k(0)-k_0 = 0.\n",
    "\\end{align}$\n",
    "\n",
    "#### Note on the Transversality Condition:\n",
    "\n",
    "One of the main contributions of this paper is that one can ignore the transversality condition and completely rely on the implicit bias in deep learning to obtain the optimal solution.\n",
    "\n",
    "\n",
    "\n",
    "In this example we focus on the case of:\n",
    " 1. $u(c) = \\frac{c^{1-\\sigma}}{1-\\sigma}$, and $f(k) = k^\\alpha$,\n",
    "\n",
    " 2.  $\\sigma = 1$, $\\beta = 0.9$, $\\alpha = \\frac{1}{3}$, and $\\delta = 0.1$.\n"
   ]
  },
  {
   "cell_type": "markdown",
   "id": "4ec32d74",
   "metadata": {},
   "source": [
    "#### Importing Packages"
   ]
  },
  {
   "cell_type": "code",
   "execution_count": 1,
   "id": "0be8994c",
   "metadata": {},
   "outputs": [],
   "source": [
    "import numpy as np\n",
    "import torch\n",
    "import torch.nn as nn\n",
    "from torch.utils.data import DataLoader\n",
    "import matplotlib.pyplot as plt\n",
    "from matplotlib import cm"
   ]
  },
  {
   "cell_type": "code",
   "execution_count": 2,
   "id": "f559ba55",
   "metadata": {},
   "outputs": [
    {
     "data": {
      "text/plain": [
       "<torch._C.Generator at 0x26e70f6a0b0>"
      ]
     },
     "execution_count": 2,
     "metadata": {},
     "output_type": "execute_result"
    }
   ],
   "source": [
    "torch.manual_seed(123) # fixing the seed"
   ]
  },
  {
   "cell_type": "markdown",
   "id": "8c326069",
   "metadata": {},
   "source": [
    "#### Setting Up the Economic Parameters \n"
   ]
  },
  {
   "cell_type": "code",
   "execution_count": 3,
   "id": "196b6caf",
   "metadata": {},
   "outputs": [],
   "source": [
    "alpha = 1.0/3.0\n",
    "beta = 0.9\n",
    "delta = 0.1\n",
    "k_0 = 1.0"
   ]
  },
  {
   "cell_type": "markdown",
   "id": "8dc5db0e",
   "metadata": {},
   "source": [
    "#### Setting Up the Grid ($\\mathcal{X}_{\\text{train}}$) and the DataLoader\n",
    "\n"
   ]
  },
  {
   "cell_type": "code",
   "execution_count": 4,
   "id": "3605c936",
   "metadata": {},
   "outputs": [],
   "source": [
    "train_t_max = 29\n",
    "time_grid = torch.arange(0.0, train_t_max , 1.0)\n",
    "time_grid = time_grid.unsqueeze(dim =1)"
   ]
  },
  {
   "cell_type": "code",
   "execution_count": 5,
   "id": "31126853",
   "metadata": {},
   "outputs": [],
   "source": [
    "data_loader = DataLoader(time_grid, batch_size=len(time_grid), shuffle = False)"
   ]
  },
  {
   "cell_type": "markdown",
   "id": "58bffd2a",
   "metadata": {},
   "source": [
    "#### Setting up the Neural Network\n",
    "This is an approximation for capital $\\hat{k}:\\mathbb{R}_+ \\rightarrow \\mathbb{R}_+$.\n",
    "\n",
    "$\\hat{k}(\\cdot)$ takes time as an input. The positivity of capital is going to be implemented by using a `Softplus` output layer. \n"
   ]
  },
  {
   "cell_type": "code",
   "execution_count": 6,
   "id": "9b14524b",
   "metadata": {},
   "outputs": [],
   "source": [
    "class K_hat_NN(nn.Module):\n",
    "    def __init__(self,\n",
    "                 dim_hidden = 128,):\n",
    "        super().__init__()\n",
    "        \n",
    "        self.dim_hidden= dim_hidden\n",
    "        \n",
    "        self.k_hat = nn.Sequential(\n",
    "            nn.Linear(1, dim_hidden, bias=True),\n",
    "            nn.Tanh(),\n",
    "            nn.Linear(dim_hidden, dim_hidden, bias=True),\n",
    "            nn.Tanh(),\n",
    "            nn.Linear(dim_hidden, dim_hidden, bias=True),\n",
    "            nn.Tanh(),\n",
    "            nn.Linear(dim_hidden, dim_hidden, bias=True),\n",
    "            nn.Tanh(),\n",
    "            nn.Linear(dim_hidden, 1),\n",
    "            nn.Softplus(beta=1.0) #To make sure capital stays positive\n",
    "        )\n",
    "\n",
    "    def forward(self, x):\n",
    "        return self.k_hat(x)\n",
    "    "
   ]
  },
  {
   "cell_type": "markdown",
   "id": "5c7bfac7",
   "metadata": {},
   "source": [
    "#### Initializing the Neural Network and Defining the Optimizer"
   ]
  },
  {
   "cell_type": "code",
   "execution_count": 7,
   "id": "9f802a33",
   "metadata": {},
   "outputs": [],
   "source": [
    "k_hat= K_hat_NN()\n",
    "learning_rate = 1e-3\n",
    "optimizer = torch.optim.Adam(k_hat.parameters(), lr=learning_rate) #Adam Optimizer \n",
    "scheduler = torch.optim.lr_scheduler.StepLR(optimizer, step_size=200, gamma=0.9) #dampening the learning rate"
   ]
  },
  {
   "cell_type": "code",
   "execution_count": 8,
   "id": "66c43887",
   "metadata": {},
   "outputs": [],
   "source": [
    "num_epochs = 1001 # step of optimization\n",
    "print_epoch_frequency = 100 # how often printing the results"
   ]
  },
  {
   "cell_type": "markdown",
   "id": "a1ddca0c",
   "metadata": {},
   "source": [
    "### Implementing the Economics\n",
    "Here, we implement the economic conditions in the form of residuals to be minimized. Specifically:\n",
    "\n",
    "1. The Euler residuals: the difference between the left-hand and right-hand sides of the Euler equation (i.e., equation 7).\n",
    "\n",
    "2. The initial condition residual: the difference between the approximate capital at time zero and the initial condition for capital (i.e., equation 9).\n",
    "\n",
    "**Note**: the feasibility condition (i.e, equation 8) is used to construct consumption. Therefore, by construction it always holds."
   ]
  },
  {
   "cell_type": "markdown",
   "id": "ff8f317b",
   "metadata": {},
   "source": [
    "#### Defining the Marginal Utility, Production, and Marginal Product of Capital Functions"
   ]
  },
  {
   "cell_type": "code",
   "execution_count": 9,
   "id": "85a6f5d1",
   "metadata": {},
   "outputs": [],
   "source": [
    "def f(k): # Production function\n",
    "    return k**alpha\n",
    "\n",
    "def df_k(k): # Marinal product of capital\n",
    "    return  alpha*(k**(alpha -1))\n",
    "\n",
    "def du_c(c): # Mariginal utility\n",
    "    return c**(-1)"
   ]
  },
  {
   "cell_type": "markdown",
   "id": "df116b86",
   "metadata": {},
   "source": [
    "#### Defining the Residuals Function to be Used in the Optimization\n",
    "This funtion defines the Euler and the intial condition residuals "
   ]
  },
  {
   "cell_type": "code",
   "execution_count": 10,
   "id": "eaf07748",
   "metadata": {},
   "outputs": [],
   "source": [
    "def residuals(batch):\n",
    "    t = batch\n",
    "    time_zero = torch.zeros([1,1]) # t = 0 \n",
    "    t_p1 = t+1 # t+1\n",
    "    t_p2 = t+2 # t+2\n",
    "    k_t = k_hat(t) # k(t), k_hat is the neural network\n",
    "    k_tp1 = k_hat(t_p1) # k(t+1)\n",
    "    k_tp2 = k_hat(t_p2) # k(t+2)\n",
    "    c_t = f(k_t) + (1 - delta) * k_t - k_tp1 # Feasibility condition at t (eq. 8)\n",
    "    c_tp1 = f(k_tp1) + (1 - delta) * k_tp1 - k_tp2 # Feasibility condition at t+1 (eq. 8)\n",
    "    \n",
    "    Euler_residual =  (du_c(c_t) / du_c(c_tp1)) - beta * (1 - delta + df_k(k_tp1)) # Euler residuals (eq. 7)\n",
    "    initial_condition_residual = k_hat(time_zero)-k_0 # Intial condition residulas (eq. 9)\n",
    "    \n",
    "    return Euler_residual, initial_condition_residual\n",
    "    "
   ]
  },
  {
   "cell_type": "markdown",
   "id": "350f4ed0",
   "metadata": {},
   "source": [
    "#### Training Loop (Optimization Process)\n",
    "\n",
    "Here, we minimize the mean squared of Euler residuals and the initial condition residuals:\n",
    "\n",
    "$\\min_{\\theta}\\bigg( \\frac{1}{2} \\frac{1}{|\\mathcal{X}_{\\text{train}}|} \\sum_{t\\in \\mathcal{X}_{\\text{train}}} \\bigg[\\frac{u'(c;\\hat{k}(t;\\theta))}{u'(c;\\hat{k}(t+1;\\theta))}- \\beta\\big[1-\\delta+f'\\big(\\hat{k}(t+1;\\theta)\\big)\\big] \\bigg]^2+\\frac{1}{2}\\big[\\hat{k}(0;\\theta)-k_0)\\big]^2\\bigg)$\n",
    "\n",
    "where $\\theta$ is the coefficients of the neural network, and the optimization id done with gradient-based optimizers such as `Gradient Descent (GD)` and `Adam`. "
   ]
  },
  {
   "cell_type": "code",
   "execution_count": 11,
   "id": "7f4f2c52",
   "metadata": {},
   "outputs": [
    {
     "name": "stdout",
     "output_type": "stream",
     "text": [
      "epoch = 0, loss = 5.64e-02\n",
      "epoch = 100, loss = 5.70e-06\n",
      "epoch = 200, loss = 2.94e-07\n",
      "epoch = 300, loss = 2.18e-07\n",
      "epoch = 400, loss = 1.74e-07\n",
      "epoch = 500, loss = 1.40e-07\n",
      "epoch = 600, loss = 1.12e-07\n",
      "epoch = 700, loss = 9.10e-08\n",
      "epoch = 800, loss = 7.42e-08\n",
      "epoch = 900, loss = 6.20e-08\n",
      "epoch = 1000, loss = 5.22e-08\n"
     ]
    }
   ],
   "source": [
    "for epoch in range(num_epochs):\n",
    "    for batch in data_loader:\n",
    "        \n",
    "        optimizer.zero_grad() # Resetting the gradients (with respect to NN coefficients)\n",
    "        \n",
    "        Euler_res, initial_condition_res = residuals(batch) # Constructing the Euler and initial condition residuals\n",
    "        \n",
    "        Euler_loss = Euler_res.pow(2).mean() # Calculating the mean squared (over the grid points) of Euler residuals\n",
    "        initial_condition_loss = initial_condition_res.pow(2).mean() #Calculating the squared of initial condition residuals\n",
    "        \n",
    "        loss = 0.5*Euler_loss + 0.5*initial_condition_loss # A convex combination of mean squared of Euler and initial condition residulas\n",
    "        \n",
    "        loss.backward() # Calculating the gradients (with respect to NN coefficients)\n",
    "        optimizer.step() # Using the gradients to minimize the loss function\n",
    "        \n",
    "    scheduler.step() # Dampening the learning rate\n",
    "    \n",
    "    if epoch % print_epoch_frequency == 0:\n",
    "        print(f\"epoch = {epoch}, loss = {loss.detach().numpy():.2e}\")\n"
   ]
  },
  {
   "cell_type": "markdown",
   "id": "27604ac5",
   "metadata": {},
   "source": [
    "### Plotting the Results"
   ]
  },
  {
   "cell_type": "markdown",
   "id": "30306ecf",
   "metadata": {},
   "source": [
    "#### Calculating the Steady-State for Capital and Consumption\n",
    "The steady-state for capital and consumption are used to test the convergence to the optimal solution "
   ]
  },
  {
   "cell_type": "code",
   "execution_count": 12,
   "id": "6bdac4b4",
   "metadata": {},
   "outputs": [],
   "source": [
    "base = ((1.0/beta)-1.0+ delta)/alpha\n",
    "exponent = 1.0/(alpha-1)\n",
    "\n",
    "k_star = base**exponent\n",
    "c_star = f(k_star)-delta*k_star"
   ]
  },
  {
   "cell_type": "code",
   "execution_count": 13,
   "id": "079a3256",
   "metadata": {},
   "outputs": [],
   "source": [
    "# creating the test data\n",
    "test_T = 50\n",
    "time_grid_test = torch.arange(0.0, test_T , 1.0)\n",
    "time_grid_test = time_grid_test.unsqueeze(dim =1)"
   ]
  },
  {
   "cell_type": "markdown",
   "id": "6e725238",
   "metadata": {},
   "source": [
    "#### Calculating the Approximate Capital and Consumption Path"
   ]
  },
  {
   "cell_type": "code",
   "execution_count": 14,
   "id": "7a23891b",
   "metadata": {},
   "outputs": [],
   "source": [
    "k_hat_path = k_hat(time_grid_test).detach() # \\hat{k}(t)\n",
    "k_hat_path_tp1 = k_hat(time_grid_test+1).detach() # \\hat{k}(t+1)\n",
    "\n",
    "c_hat_path = f(k_hat_path) + (1-delta)*k_hat_path - k_hat_path_tp1 # \\hat{c}(t)"
   ]
  },
  {
   "cell_type": "markdown",
   "id": "45c88413",
   "metadata": {},
   "source": [
    "#### Calculating the Euler and Initial Condition Residuals\n",
    "\n"
   ]
  },
  {
   "cell_type": "code",
   "execution_count": 15,
   "id": "ed5dc57c",
   "metadata": {},
   "outputs": [],
   "source": [
    "Euler_res_test, initial_condiotions_res_test = residuals(time_grid_test)\n",
    "Euler_res_test = Euler_res_test.detach()"
   ]
  },
  {
   "cell_type": "markdown",
   "id": "ecd7ee4c",
   "metadata": {},
   "source": [
    "#### Plots"
   ]
  },
  {
   "cell_type": "markdown",
   "id": "55e1907c",
   "metadata": {},
   "source": [
    "#### Plot Settings\n",
    "such as font, font size and image size."
   ]
  },
  {
   "cell_type": "code",
   "execution_count": 16,
   "id": "54f9f8b4",
   "metadata": {},
   "outputs": [],
   "source": [
    "fontsize= 14\n",
    "ticksize = 14\n",
    "figsize = (14, 4.5)\n",
    "params = {'font.family':'serif',\n",
    "    \"figure.figsize\":figsize,\n",
    "    'figure.dpi': 80,\n",
    "    'figure.edgecolor': 'k',\n",
    "    'font.size': fontsize,\n",
    "    'axes.labelsize': fontsize,\n",
    "    'axes.titlesize': fontsize,\n",
    "    'xtick.labelsize': ticksize,\n",
    "    'ytick.labelsize': ticksize\n",
    "}\n",
    "plt.rcParams.update(params)"
   ]
  },
  {
   "cell_type": "code",
   "execution_count": 17,
   "id": "47476cba",
   "metadata": {},
   "outputs": [
    {
     "data": {
      "text/plain": [
       "<matplotlib.legend.Legend at 0x26e7cddf460>"
      ]
     },
     "execution_count": 17,
     "metadata": {},
     "output_type": "execute_result"
    },
    {
     "data": {
      "image/png": "[encoded data removed]",
      "text/plain": [
       "<Figure size 1120x360 with 2 Axes>"
      ]
     },
     "metadata": {},
     "output_type": "display_data"
    }
   ],
   "source": [
    "plt.subplot(1, 2 , 1)\n",
    "\n",
    "plt.plot(time_grid_test,k_hat_path, color='k',  label = r\"$\\hat{k}(t)$\")\n",
    "plt.axhline(y=k_star, linestyle='--',color='k', label=\"k Steady-State\")\n",
    "plt.xlabel(r\"Time(t)\")\n",
    "plt.axvline(x= train_t_max , color='k', linestyle=':', label = \"Iterpolation vs Extrapolation\")\n",
    "plt.title(r\"Approximate Capital Path\")\n",
    "plt.ylim([k_0-0.1,k_star*(1+0.35) ])\n",
    "plt.legend(loc='best')\n",
    "\n",
    "plt.subplot(1, 2, 2)\n",
    "\n",
    "plt.plot(time_grid_test,c_hat_path, color='b',  label = r\"$\\hat{c}(t)$\")\n",
    "plt.axhline(y=c_star, linestyle='--',color='b', label=\"c Steady-State\")\n",
    "plt.xlabel(r\"Time(t)\")\n",
    "plt.axvline(x= train_t_max , color='b', linestyle=':', label = \"Interpolation vs Extrapolation\")\n",
    "plt.title(r\"Approximate Consumption Path\")\n",
    "plt.ylim([c_hat_path[0]-0.1,c_star*(1+0.25) ])\n",
    "plt.legend(loc='best')"
   ]
  },
  {
   "cell_type": "code",
   "execution_count": 18,
   "id": "61beb014",
   "metadata": {},
   "outputs": [
    {
     "data": {
      "image/png": "[encoded data removed]",
      "text/plain": [
       "<Figure size 1120x360 with 1 Axes>"
      ]
     },
     "metadata": {},
     "output_type": "display_data"
    }
   ],
   "source": [
    "plt.plot(time_grid_test,Euler_res_test**2, color='k',  label = r\"Euler Residuals$^2$\")\n",
    "plt.xlabel(r\"Time(t)\")\n",
    "plt.axvline(x= train_t_max , color='k', linestyle=':', label = \"Interpolation vs Extrapolation\")\n",
    "plt.title(r\"Euler Residuals Squared\")\n",
    "plt.legend(loc='lower left')\n",
    "plt.yscale('log')"
   ]
  },
  {
   "cell_type": "code",
   "execution_count": null,
   "id": "2d0a289e",
   "metadata": {},
   "outputs": [],
   "source": []
  },
  {
   "cell_type": "code",
   "execution_count": null,
   "id": "d1737cbb",
   "metadata": {},
   "outputs": [],
   "source": []
  },
  {
   "cell_type": "code",
   "execution_count": null,
   "id": "a94b7bd6",
   "metadata": {},
   "outputs": [],
   "source": []
  }
 ],
 "metadata": {
  "kernelspec": {
   "display_name": "Python 3 (ipykernel)",
   "language": "python",
   "name": "python3"
  },
  "language_info": {
   "codemirror_mode": {
    "name": "ipython",
    "version": 3
   },
   "file_extension": ".py",
   "mimetype": "text/x-python",
   "name": "python",
   "nbconvert_exporter": "python",
   "pygments_lexer": "ipython3",
   "version": "3.9.13"
  }
 },
 "nbformat": 4,
 "nbformat_minor": 5
}

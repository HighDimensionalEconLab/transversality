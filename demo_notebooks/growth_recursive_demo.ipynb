{
 "cells": [
  {
   "cell_type": "markdown",
   "id": "dae963a0",
   "metadata": {},
   "source": [
    "**Note**: This notebook should take around **a minute** to run.\n",
    "\n",
    "For a more comprehensive and detailed treatment of this problem, please refer to the [GitHub repository](https://github.com/HighDimensionalEconLab/deep_learning_transversality)."
   ]
  },
  {
   "cell_type": "markdown",
   "id": "ad24e909",
   "metadata": {},
   "source": [
    "# The Economic Problem:\n",
    "\n",
    "Consider the following Bellman equation:\n",
    "\n",
    "$\\begin{align}\n",
    "    v(k) = & \\max_{c, k'}\\left\\{u(c) + \\beta v(k')\\right\\} \\\\\n",
    "    \\text{s.t.}~\\quad & k' = f(k) + (1 - \\delta)k - c \\\\\n",
    "    & k' \\geq 0,\n",
    "\\end{align}\n",
    "$\n",
    "\n",
    "where $v(\\cdot)$ is the value function, $u(\\cdot)$ is the utility function, $f(\\cdot)$ is the production function, $\\beta$ is the discount factor, and $\\delta$ is the depreciation rate.\n",
    "\n",
    "\n",
    "#### First Order Condition\n",
    "The Euler equation can be written as:\n",
    "\n",
    "$\\begin{align}\n",
    "\\quad & u'(c) = \\beta u'(c')\\big[f'(k')+(1-\\delta)\\big]\n",
    "\\end{align}$\n",
    "\n",
    "To pin down the optimal solution a transversality condition is required, described as:\n",
    "\n",
    "$\\begin{align}\n",
    "\\quad & \\lim_{T\\rightarrow \\infty} \\beta^T u'(c^T(k))k^{'T}(k) = 0\n",
    "\\end{align}$\n",
    "\n",
    "for any initial condition of capital $k_0$.\n",
    "\n",
    "#### The System of Equations Describing the Optimal Solution:\n",
    "\n",
    "\n",
    "$\\begin{align}\n",
    "\\quad & \\beta u'\\big(c(k)\\big)\\bigg[f'\\big(k'(k)\\big)+(1-\\delta)\\bigg] - u'\\big(c(k')\\big) = 0 \\\\\n",
    "\\quad & c(k) = f\\big(k\\big) + (1-\\delta) k - k'(k)  \\\\\n",
    "\\end{align}$\n",
    "\n",
    "#### Note on the Transversality Condition:\n",
    "\n",
    "One of the main contributions of this paper is that one can ignore the transversality condition and completely rely on the implicit bias in deep learning to obtain the optimal solution.\n",
    "\n",
    "\n",
    "\n",
    "In this example we focus on the case of:\n",
    " 1. $u(c) =log(c)$, and $f(k) = k^\\alpha$,\n",
    "\n",
    " 2.  $\\beta = 0.9$, $\\alpha = \\frac{1}{3}$, and $\\delta = 0.1$.\n"
   ]
  },
  {
   "cell_type": "markdown",
   "id": "4ec32d74",
   "metadata": {},
   "source": [
    "#### Importing Packages"
   ]
  },
  {
   "cell_type": "code",
   "execution_count": 1,
   "id": "0be8994c",
   "metadata": {
    "tags": []
   },
   "outputs": [],
   "source": [
    "import numpy as np\n",
    "import torch\n",
    "import torch.nn as nn\n",
    "from torch.utils.data import DataLoader\n",
    "import matplotlib.pyplot as plt\n",
    "from matplotlib import cm"
   ]
  },
  {
   "cell_type": "code",
   "execution_count": 2,
   "id": "f559ba55",
   "metadata": {
    "tags": []
   },
   "outputs": [
    {
     "data": {
      "text/plain": [
       "<torch._C.Generator at 0x23a938d90b0>"
      ]
     },
     "execution_count": 2,
     "metadata": {},
     "output_type": "execute_result"
    }
   ],
   "source": [
    "torch.manual_seed(123) # fixing the seed"
   ]
  },
  {
   "cell_type": "markdown",
   "id": "8c326069",
   "metadata": {},
   "source": [
    "#### Setting Up the Economic Parameters \n"
   ]
  },
  {
   "cell_type": "code",
   "execution_count": 3,
   "id": "196b6caf",
   "metadata": {
    "tags": []
   },
   "outputs": [],
   "source": [
    "alpha = 1.0/3.0\n",
    "beta = 0.9\n",
    "delta = 0.1\n",
    "k_0 = 1.0"
   ]
  },
  {
   "cell_type": "markdown",
   "id": "8dc5db0e",
   "metadata": {},
   "source": [
    "#### Setting Up the Grid ($\\mathcal{X}_{\\text{train}}$) and the DataLoader\n",
    "\n",
    "We are looking for the policy function for capital $k'(k): \\mathcal{X} \\rightarrow \\mathbb{R}_+ $, where $\\mathcal{X} \\subset \\mathbb{R}_+$. \n",
    "\n",
    "We pick a grid of the following form:\n",
    "\n",
    "$\\begin{align*}\n",
    "\t\\mathcal{X}_{\\text{train}} \\equiv \\{k_{\\text{min}},\\ldots,k_{\\text{max}}\\}.\n",
    "\\end{align*}$\n"
   ]
  },
  {
   "cell_type": "code",
   "execution_count": 4,
   "id": "3605c936",
   "metadata": {
    "tags": []
   },
   "outputs": [],
   "source": [
    "k_min = 0.4\n",
    "k_max =4.0\n",
    "grid_size = 16\n",
    "capital_grid = torch.linspace(k_min, k_max, grid_size)\n",
    "capital_grid = capital_grid.unsqueeze(dim =1)"
   ]
  },
  {
   "cell_type": "code",
   "execution_count": 5,
   "id": "31126853",
   "metadata": {
    "tags": []
   },
   "outputs": [],
   "source": [
    "data_loader = DataLoader(capital_grid, batch_size=len(capital_grid), shuffle = False)"
   ]
  },
  {
   "cell_type": "markdown",
   "id": "58bffd2a",
   "metadata": {},
   "source": [
    "#### Setting up the Neural Network\n",
    "\n",
    "This is an approximation for capital $\\hat{k}': \\mathcal{X} \\rightarrow \\mathbb{R}_+$.\n",
    "\n",
    "$\\hat{k}'(\\cdot)$ takes capital as an input. The positivity of capital is going to be implemented by using a `Softplus` output layer."
   ]
  },
  {
   "cell_type": "code",
   "execution_count": 6,
   "id": "9b14524b",
   "metadata": {
    "tags": []
   },
   "outputs": [],
   "source": [
    "class K_prime_NN(nn.Module):\n",
    "    def __init__(self,\n",
    "                 dim_hidden = 128,):\n",
    "        super().__init__()\n",
    "        \n",
    "        self.dim_hidden= dim_hidden\n",
    "        \n",
    "        self.k_prime = nn.Sequential(\n",
    "            nn.Linear(1, dim_hidden, bias=True),\n",
    "            nn.Tanh(),\n",
    "            nn.Linear(dim_hidden, dim_hidden, bias=True),\n",
    "            nn.Tanh(),\n",
    "            nn.Linear(dim_hidden, dim_hidden, bias=True),\n",
    "            nn.Tanh(),\n",
    "            nn.Linear(dim_hidden, dim_hidden, bias=True),\n",
    "            nn.Tanh(),\n",
    "            nn.Linear(dim_hidden, 1),\n",
    "            nn.Softplus(beta=1.0) #To make sure capital stays positive\n",
    "        )\n",
    "\n",
    "    def forward(self, x):\n",
    "        return self.k_prime(x)\n",
    "    "
   ]
  },
  {
   "cell_type": "markdown",
   "id": "5c7bfac7",
   "metadata": {},
   "source": [
    "#### Initializing the Neural Network and Defining the Optimizer"
   ]
  },
  {
   "cell_type": "code",
   "execution_count": 7,
   "id": "9f802a33",
   "metadata": {
    "tags": []
   },
   "outputs": [],
   "source": [
    "k_prime= K_prime_NN()\n",
    "learning_rate = 1e-3\n",
    "optimizer = torch.optim.Adam(k_prime.parameters(), lr=learning_rate) #Adam Optimizer \n",
    "scheduler = torch.optim.lr_scheduler.StepLR(optimizer, step_size=200, gamma=0.95) #dampening the learning rate"
   ]
  },
  {
   "cell_type": "code",
   "execution_count": 8,
   "id": "66c43887",
   "metadata": {
    "tags": []
   },
   "outputs": [],
   "source": [
    "num_epochs = 2001 # step of optimization\n",
    "print_epoch_frequency = 200 # how often printing the results"
   ]
  },
  {
   "cell_type": "markdown",
   "id": "fca37882",
   "metadata": {},
   "source": [
    "### Implementing the Economics\n",
    "\n",
    "Here, we implement the economic conditions in the form of residuals to be minimized. Specifically:\n",
    "\n",
    "1. The Euler residuals: the difference between the left-hand and right-hand sides of the Euler equation (i.e., Equation 6).\n",
    "\n",
    "Note: The feasibility condition (i.e., Equation 7) is used to construct the consumption function. Therefore, by construction, Equation 7 always holds."
   ]
  },
  {
   "cell_type": "markdown",
   "id": "8e70792c",
   "metadata": {},
   "source": [
    "#### Defining the Marginal Utility, Production, and Marginal Product of Capital Functions"
   ]
  },
  {
   "cell_type": "code",
   "execution_count": 9,
   "id": "3bd02ad6",
   "metadata": {},
   "outputs": [],
   "source": [
    "def f(k): # Production function\n",
    "    return k**alpha\n",
    "\n",
    "def df_k(k): # Marinal product of capital\n",
    "    return  alpha*(k**(alpha -1))\n",
    "\n",
    "def du_c(c): # Mariginal utility\n",
    "    return c**(-1)"
   ]
  },
  {
   "cell_type": "markdown",
   "id": "84cb8ced",
   "metadata": {},
   "source": [
    "#### Defining the Residuals Function to be Used in the Optimization\n",
    "This funtion defines the residuals of the Euler equation"
   ]
  },
  {
   "cell_type": "code",
   "execution_count": 10,
   "id": "eaf07748",
   "metadata": {
    "tags": []
   },
   "outputs": [],
   "source": [
    "def residuals(batch):\n",
    "    k_t = batch\n",
    "\n",
    "# iterate forwards\n",
    "    k_tp1 = k_prime(k_t)\n",
    "    k_tp2 = k_prime(k_tp1)\n",
    "\n",
    "# compute consumptions level\n",
    "    c_t = f(k_t) + (1 - delta) * k_t - k_tp1\n",
    "    c_tp1 = f(k_tp1) + (1 - delta) * k_tp1 - k_tp2\n",
    "\n",
    "# Euler residual\n",
    "    residual = (du_c(c_t) / du_c(c_tp1)) - beta * (1 - delta + df_k(k_tp1))\n",
    "    return residual\n",
    "    "
   ]
  },
  {
   "cell_type": "markdown",
   "id": "350f4ed0",
   "metadata": {},
   "source": [
    "#### Training Loop (Optimization Process)\n",
    "\n",
    "Here, we minimize the mean squared of price residuals over the grid points:\n",
    "\n",
    "$\n",
    "\\begin{align*}\n",
    "\tmin_{\\theta\\in \\Theta} \\frac{1}{|\\mathcal{X}_{\\text{train}}|} \\sum_{k \\in \\mathcal{X}_{\\text{train}}} \\Bigg( &\t\\frac{u'\\big(c\\big(k,k'(\\cdot;\\theta)\\big)\\big)}{u'\\big(c\\big(k'(k;\\theta);k'(\\cdot;\\theta)\\big)\\big)} - \\beta \\big[f'\\big(k'(k;\\theta)\\big) + (1-\\delta)\\big]\\Bigg)^2.\n",
    "\\end{align*}\n",
    "$\n",
    "\n",
    "where $\\theta$ is the coefficients of the neural network, and the optimization id done with gradient-based optimizers such as `Gradient Descent (GD)` and `Adam`.  \n"
   ]
  },
  {
   "cell_type": "code",
   "execution_count": 11,
   "id": "7f4f2c52",
   "metadata": {
    "tags": []
   },
   "outputs": [
    {
     "name": "stdout",
     "output_type": "stream",
     "text": [
      "epoch = 0, loss = 6.71e-01\n",
      "epoch = 200, loss = 1.45e-04\n",
      "epoch = 400, loss = 1.02e-04\n",
      "epoch = 600, loss = 7.38e-05\n",
      "epoch = 800, loss = 5.36e-05\n",
      "epoch = 1000, loss = 3.79e-05\n",
      "epoch = 1200, loss = 2.55e-05\n",
      "epoch = 1400, loss = 1.63e-05\n",
      "epoch = 1600, loss = 9.71e-06\n",
      "epoch = 1800, loss = 5.49e-06\n",
      "epoch = 2000, loss = 3.37e-06\n"
     ]
    }
   ],
   "source": [
    "for epoch in range(num_epochs):\n",
    "    for batch in data_loader:\n",
    "        \n",
    "        optimizer.zero_grad()\n",
    "        \n",
    "        res = residuals(batch)\n",
    "        \n",
    "        loss = res.pow(2).mean()\n",
    "        \n",
    "        loss.backward()\n",
    "        optimizer.step()\n",
    "        \n",
    "    scheduler.step()\n",
    "    \n",
    "    if epoch % print_epoch_frequency == 0:\n",
    "        print(f\"epoch = {epoch}, loss = {loss.detach().numpy():.2e}\")\n"
   ]
  },
  {
   "cell_type": "markdown",
   "id": "27604ac5",
   "metadata": {},
   "source": [
    "### Plotting the Results"
   ]
  },
  {
   "cell_type": "markdown",
   "id": "30306ecf",
   "metadata": {},
   "source": [
    "#### Calculating the Steady-State for Capital and Consumption\n",
    "The steady-state for capital and consumption is used to test the convergence to the optimal solution "
   ]
  },
  {
   "cell_type": "code",
   "execution_count": 12,
   "id": "6bdac4b4",
   "metadata": {
    "tags": []
   },
   "outputs": [],
   "source": [
    "base = ((1.0/beta)-1.0+ delta)/alpha\n",
    "exponent = 1.0/(alpha-1)\n",
    "\n",
    "k_star = base**exponent\n",
    "c_star = f(k_star)-delta*k_star"
   ]
  },
  {
   "cell_type": "code",
   "execution_count": 13,
   "id": "079a3256",
   "metadata": {
    "tags": []
   },
   "outputs": [],
   "source": [
    "# creating the test data: we test for the capital path that starts k_0=0.5\n",
    "test_T = 50\n",
    "k_0 =0.5\n",
    "k_hat_path  = torch.empty(test_T+1).unsqueeze(1)\n",
    "c_hat_path = torch.empty(test_T).unsqueeze(1)\n",
    "time_grid = torch.arange(test_T).unsqueeze(1)"
   ]
  },
  {
   "cell_type": "code",
   "execution_count": 14,
   "id": "adb74f95-f34d-4358-b9e9-962614724773",
   "metadata": {
    "tags": []
   },
   "outputs": [],
   "source": [
    "k_hat_path[0] =k_0"
   ]
  },
  {
   "cell_type": "markdown",
   "id": "6e725238",
   "metadata": {},
   "source": [
    "#### Calculating the Approximate Capital and Consumption Path\n",
    "\n",
    "We use approximated $\\hat{k}'(k)$ (by neural network) to calculate capital and consumption paths.  \n"
   ]
  },
  {
   "cell_type": "code",
   "execution_count": 15,
   "id": "7a23891b",
   "metadata": {
    "tags": []
   },
   "outputs": [],
   "source": [
    "for t in range(0, test_T):\n",
    "    k_hat_path[t+1] = k_prime(k_hat_path[t])\n",
    "    c_hat_path[t] = f(k_hat_path[t]) + (1-delta)*k_hat_path[t] - k_hat_path[t+1]\n",
    "    \n",
    "k_hat_path =k_hat_path.detach()\n",
    "c_hat_path =c_hat_path.detach()\n",
    "time_grid = time_grid.detach()"
   ]
  },
  {
   "cell_type": "markdown",
   "id": "45c88413",
   "metadata": {},
   "source": [
    "#### Calculating the Euler Residuals\n",
    "\n"
   ]
  },
  {
   "cell_type": "code",
   "execution_count": 16,
   "id": "ed5dc57c",
   "metadata": {
    "tags": []
   },
   "outputs": [],
   "source": [
    "res = residuals(k_hat_path[0:test_T])\n",
    "res = res.detach()"
   ]
  },
  {
   "cell_type": "markdown",
   "id": "ecd7ee4c",
   "metadata": {},
   "source": [
    "#### Plots"
   ]
  },
  {
   "cell_type": "markdown",
   "id": "3517f24a",
   "metadata": {},
   "source": [
    "We firstly set up the plots parmeters"
   ]
  },
  {
   "cell_type": "code",
   "execution_count": 17,
   "id": "697287b6",
   "metadata": {
    "tags": []
   },
   "outputs": [],
   "source": [
    "fontsize= 14\n",
    "ticksize = 14\n",
    "figsize = (14, 4.5)\n",
    "params = {'font.family':'serif',\n",
    "    \"figure.figsize\":figsize,\n",
    "    'figure.dpi': 80,\n",
    "    'figure.edgecolor': 'k',\n",
    "    'font.size': fontsize,\n",
    "    'axes.labelsize': fontsize,\n",
    "    'axes.titlesize': fontsize,\n",
    "    'xtick.labelsize': ticksize,\n",
    "    'ytick.labelsize': ticksize\n",
    "}\n",
    "plt.rcParams.update(params)"
   ]
  },
  {
   "cell_type": "markdown",
   "id": "10b42a91",
   "metadata": {},
   "source": [
    "Next we plot the approximate capital and consumption plots"
   ]
  },
  {
   "cell_type": "code",
   "execution_count": 18,
   "id": "47476cba",
   "metadata": {
    "tags": []
   },
   "outputs": [
    {
     "data": {
      "text/plain": [
       "<matplotlib.legend.Legend at 0x23a9a1a3fd0>"
      ]
     },
     "execution_count": 18,
     "metadata": {},
     "output_type": "execute_result"
    },
    {
     "data": {
      "image/png": "[encoded data removed]",
      "text/plain": [
       "<Figure size 1120x360 with 2 Axes>"
      ]
     },
     "metadata": {},
     "output_type": "display_data"
    }
   ],
   "source": [
    "plt.subplot(1, 2 , 1)\n",
    "\n",
    "plt.plot(time_grid,k_hat_path[0:test_T], color='k',  label = r\"$\\hat{k}(t)$\")\n",
    "plt.axhline(y=k_star, linestyle='--',color='k', label=\"k Steady-State\")\n",
    "plt.xlabel(r\"Time(t)\")\n",
    "plt.title(r\"Approximate Capital Path\")\n",
    "plt.ylim([k_0-0.1,k_star*(1+0.35) ])\n",
    "plt.legend(loc='best')\n",
    "\n",
    "plt.subplot(1, 2, 2)\n",
    "\n",
    "plt.plot(time_grid,c_hat_path, color='b',  label = r\"$\\hat{c}(t)$\")\n",
    "plt.axhline(y=c_star, linestyle='--',color='b', label=\"c Steady-State\")\n",
    "plt.xlabel(r\"Time(t)\")\n",
    "plt.title(r\"Approximate Consumption Path\")\n",
    "plt.ylim([c_hat_path[0]-0.1,c_star*(1+0.25) ])\n",
    "plt.legend(loc='best')"
   ]
  },
  {
   "cell_type": "markdown",
   "id": "a6fac4b1",
   "metadata": {},
   "source": [
    "Lastly we plot residuals "
   ]
  },
  {
   "cell_type": "code",
   "execution_count": 19,
   "id": "61beb014",
   "metadata": {
    "tags": []
   },
   "outputs": [
    {
     "data": {
      "image/png": "[encoded data removed]",
      "text/plain": [
       "<Figure size 1120x360 with 1 Axes>"
      ]
     },
     "metadata": {},
     "output_type": "display_data"
    }
   ],
   "source": [
    "plt.plot(time_grid,res**2, color='k',  label = r\"Euler Residuals$^2$\")\n",
    "plt.xlabel(r\"Time(t)\")\n",
    "plt.title(r\"Euler Residuals Squared\")\n",
    "plt.legend(loc='lower right')\n",
    "plt.yscale('log')"
   ]
  },
  {
   "cell_type": "code",
   "execution_count": null,
   "id": "517c7525",
   "metadata": {},
   "outputs": [],
   "source": []
  }
 ],
 "metadata": {
  "kernelspec": {
   "display_name": "Python 3 (ipykernel)",
   "language": "python",
   "name": "python3"
  },
  "language_info": {
   "codemirror_mode": {
    "name": "ipython",
    "version": 3
   },
   "file_extension": ".py",
   "mimetype": "text/x-python",
   "name": "python",
   "nbconvert_exporter": "python",
   "pygments_lexer": "ipython3",
   "version": "3.9.13"
  }
 },
 "nbformat": 4,
 "nbformat_minor": 5
}
